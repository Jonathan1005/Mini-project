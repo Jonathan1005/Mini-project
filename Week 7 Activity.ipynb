{
 "cells": [
  {
   "cell_type": "code",
   "execution_count": 1,
   "id": "f835f07e",
   "metadata": {},
   "outputs": [],
   "source": [
    "import numpy as np\n",
    "import cv2 as cv\n",
    "import matplotlib.pyplot as plt"
   ]
  },
  {
   "cell_type": "code",
   "execution_count": 5,
   "id": "148a6ae2",
   "metadata": {},
   "outputs": [],
   "source": [
    "im = cv.imread('peace_view.jfif')\n",
    "\n",
    "im_lab1 = cv.cvtColor(im, cv.COLOR_BGR2Lab)\n",
    "L1, a1, b1 = cv.split(im_lab1)\n",
    "L1 = im_lab1[:, :, 0]\n",
    "Leq1 = cv.equalizeHist(L1)\n",
    "im_lab1[:, :, 0] = Leq1\n",
    "img_lab_bgr1 = cv.cvtColor(im_lab1, cv.COLOR_Lab2BGR)\n",
    "\n",
    "im_lab2 = cv.cvtColor(img_lab_bgr1, cv.COLOR_BGR2Lab)\n",
    "L2, a2, b2 = cv.split(im_lab2)\n",
    "L2 = im_lab2[:, :, 0]\n",
    "Leq2 = cv.equalizeHist(L2)\n",
    "im_lab2[:, :, 0] = Leq2\n",
    "img_lab_bgr2 = cv.cvtColor(im_lab2, cv.COLOR_Lab2BGR)\n",
    "\n",
    "cv.imshow('result', np.hstack((img_lab_bgr1, img_lab_bgr2)))\n",
    "cv.waitKey(0)\n",
    "cv.destroyAllWindows()  #no difference between two output images"
   ]
  },
  {
   "cell_type": "code",
   "execution_count": 31,
   "id": "4cfa3f22",
   "metadata": {},
   "outputs": [],
   "source": [
    "im = cv.imread('electronic.jfif', 0)\n",
    "im_blur = cv.GaussianBlur(im, (5, 5), 0)\n",
    "\n",
    "im_sobelx = cv.Sobel(im, cv.CV_64F, 1, 0, ksize = 3)\n",
    "im_sobely = cv.Sobel(im, cv.CV_64F, 0, 1, ksize = 3)\n",
    "grad_mag = cv.addWeighted(np.absolute(im_sobelx), 0.5, np.absolute(im_sobely), 0.5, 0)\n",
    "grad_mag = cv.convertScaleAbs(grad_mag)\n",
    "\n",
    "blur_sobelx = cv.Sobel(im_blur, cv.CV_64F, 1, 0, ksize = 3)\n",
    "blur_sobely = cv.Sobel(im_blur, cv.CV_64F, 0, 1, ksize = 3)\n",
    "grad_mag2 = cv.addWeighted(np.absolute(blur_sobelx), 0.5, np.absolute(blur_sobely), 0.5, 0)\n",
    "grad_mag2 = cv.convertScaleAbs(grad_mag2)\n",
    "\n",
    "laplacian = cv.Laplacian(im_blur, cv.CV_64F, ksize = 3)\n",
    "laplacian_8u = cv.convertScaleAbs(laplacian)\n",
    "\n",
    "cv.imshow('result', np.hstack((grad_mag, grad_mag2, laplacian_8u)))\n",
    "cv.waitKey(0)\n",
    "cv.destroyAllWindows()  #laplacian is the most optimal pathway because its output image has the least noises compared to the other pathways"
   ]
  },
  {
   "cell_type": "code",
   "execution_count": 54,
   "id": "77d19b4f",
   "metadata": {},
   "outputs": [],
   "source": [
    "im = cv.imread('pineapple.jfif', 0)\n",
    "im_blur = cv.GaussianBlur(im, (5, 5), 0)\n",
    "\n",
    "sobelx = cv.Sobel(im_blur, cv.CV_64F, 1, 0, ksize = 3)\n",
    "sobely = cv.Sobel(im_blur, cv.CV_64F, 0, 1, ksize = 3)\n",
    "grad_mag = cv.addWeighted(np.absolute(sobelx), 0.5, np.absolute(sobely), 0.5, 0)\n",
    "grad_mag = cv.convertScaleAbs(grad_mag)\n",
    "\n",
    "laplacian = cv.Laplacian(im_blur, cv.CV_64F, ksize = 3)\n",
    "laplacian_8u = cv.convertScaleAbs(laplacian)\n",
    "\n",
    "kernelx = np.array([[1,1,1],[0,0,0],[-1,-1,-1]])\n",
    "kernely = np.array([[-1,0,1],[-1,0,1],[-1,0,1]])\n",
    "im_prewittx = cv.filter2D(im_blur, -1, kernelx)\n",
    "im_prewitty = cv.filter2D(im_blur, -1, kernely)\n",
    "\n",
    "scharr_X = cv.Scharr(im_blur, cv.CV_64F, 1, 0)  \n",
    "scharr_Y = cv.Scharr(im_blur, cv.CV_64F, 0, 1) \n",
    "scharr_X_abs = np.uint8(np.absolute(scharr_X))\n",
    "scharr_Y_abs = np.uint8(np.absolute(scharr_Y)) \n",
    "scharr = cv.bitwise_or(scharr_Y_abs,scharr_X_abs) \n",
    "    \n",
    "canny = cv.Canny(im_blur, 100, 200, apertureSize=3)\n",
    "\n",
    "cv.imshow('Sobel', grad_mag)\n",
    "cv.imshow('Laplacian', laplacian_8u)\n",
    "cv.imshow('Prewitt', im_prewittx + im_prewitty)\n",
    "cv.imshow('Scharr', scharr_X_abs)\n",
    "cv.imshow('Canny', canny)\n",
    "cv.waitKey(0)\n",
    "cv.destroyAllWindows()"
   ]
  },
  {
   "cell_type": "code",
   "execution_count": 118,
   "id": "e507d147",
   "metadata": {},
   "outputs": [],
   "source": [
    "im = cv.imread('electronic.jfif')\n",
    "gray = cv.cvtColor(im, cv.COLOR_BGR2GRAY)\n",
    "im_blur = cv.GaussianBlur(gray, (5, 5), 0)\n",
    "\n",
    "canny = cv.Canny(im_blur, 100, 200, apertureSize=3)\n",
    "res = cv.bitwise_not(canny)\n",
    "ret, th = cv.threshold(im_blur, 0, 255, cv.THRESH_BINARY_INV+cv.THRESH_OTSU)\n",
    "res2 = cv.bitwise_or(res, th)\n",
    "res3 = cv.bitwise_not(res2)\n",
    "contour, hierarchy = cv.findContours(res3, cv.RETR_EXTERNAL, cv.CHAIN_APPROX_SIMPLE)\n",
    "\n",
    "cv.drawContours(im, contour, -1, (0, 255, 0), 2)\n",
    "\n",
    "cv.imshow('contour', im)\n",
    "cv.waitKey(0)\n",
    "cv.destroyAllWindows()"
   ]
  }
 ],
 "metadata": {
  "kernelspec": {
   "display_name": "Python 3 (ipykernel)",
   "language": "python",
   "name": "python3"
  },
  "language_info": {
   "codemirror_mode": {
    "name": "ipython",
    "version": 3
   },
   "file_extension": ".py",
   "mimetype": "text/x-python",
   "name": "python",
   "nbconvert_exporter": "python",
   "pygments_lexer": "ipython3",
   "version": "3.9.12"
  }
 },
 "nbformat": 4,
 "nbformat_minor": 5
}
