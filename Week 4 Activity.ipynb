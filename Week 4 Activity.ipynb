{
 "cells": [
  {
   "cell_type": "code",
   "execution_count": 1,
   "id": "e32e4680",
   "metadata": {},
   "outputs": [],
   "source": [
    "import sys\n",
    "\n",
    "assert sys.version_info >= (3,7)\n",
    "\n",
    "import cv2 as cv\n",
    "import numpy as np\n",
    "\n",
    "np.random.seed(99)\n",
    "\n",
    "if not cv.useOptimized():\n",
    "    cv.setUseOptimized(True)\n",
    "\n",
    "cv.useOptimized()\n",
    "\n",
    "import imageio"
   ]
  },
  {
   "cell_type": "code",
   "execution_count": 2,
   "id": "17270d96",
   "metadata": {},
   "outputs": [],
   "source": [
    "img = cv.imread(\"dog.jfif\")\n",
    "gray = cv.imread(\"dog.jfif\", 0)\n",
    "\n",
    "cv.imshow('Color', img)\n",
    "cv.imshow('Grayscale', gray)\n",
    "cv.waitKey(0)\n",
    "cv.destroyAllWindows()"
   ]
  },
  {
   "cell_type": "code",
   "execution_count": 11,
   "id": "52522bc0",
   "metadata": {},
   "outputs": [],
   "source": [
    "cap = cv.VideoCapture('img_pexels.mp4')\n",
    "\n",
    "width = int(cap.get(3))\n",
    "height = int(cap.get(4))\n",
    "fourcc = cv.VideoWriter_fourcc('M', 'J', 'P', 'G')\n",
    "fps = 20\n",
    "out = cv.VideoWriter('smaller_img_pexels.avi', fourcc, fps, (width, height))\n",
    "\n",
    "if not cap.isOpened():\n",
    "    print(\"Unable to create video\")\n",
    "    \n",
    "while cap.isOpened():\n",
    "    ret, frame = cap.read()\n",
    "    \n",
    "    if not ret:\n",
    "        print(\"Can't receive frame.\")\n",
    "        break\n",
    "    \n",
    "    frame_resize = cv.resize(frame, (500, 500), fx = 0, fy = 0, interpolation = cv.INTER_LINEAR)\n",
    "    out.write(frame_resize)\n",
    "    cv.imshow('frame', frame_resize)\n",
    "    \n",
    "    if cv.waitKey(1) & 0xFF == 27:\n",
    "        break\n",
    "        \n",
    "cap.release()\n",
    "out.release()\n",
    "cv.destroyAllWindows()"
   ]
  },
  {
   "cell_type": "code",
   "execution_count": 15,
   "id": "5b32d4e1",
   "metadata": {},
   "outputs": [],
   "source": [
    "img = np.random.randint(0, 256, (500,500), dtype = np.uint8)\n",
    "#cv.imwrite('gray_noise.jpg', img)\n",
    "#img2 = cv.imread('gray_noise.jpg')\n",
    "#color = cv.cvtColor(img2, cv.COLOR_GRAY2BGR)\n",
    "\n",
    "cv.imshow('grayscale', img)\n",
    "#cv.imshow('color', color)\n",
    "cv.waitKey(0)\n",
    "cv.destroyAllWindows()"
   ]
  },
  {
   "cell_type": "code",
   "execution_count": null,
   "id": "03a508eb",
   "metadata": {},
   "outputs": [],
   "source": []
  }
 ],
 "metadata": {
  "kernelspec": {
   "display_name": "Python 3 (ipykernel)",
   "language": "python",
   "name": "python3"
  },
  "language_info": {
   "codemirror_mode": {
    "name": "ipython",
    "version": 3
   },
   "file_extension": ".py",
   "mimetype": "text/x-python",
   "name": "python",
   "nbconvert_exporter": "python",
   "pygments_lexer": "ipython3",
   "version": "3.9.12"
  }
 },
 "nbformat": 4,
 "nbformat_minor": 5
}
