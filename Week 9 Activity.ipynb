{
 "cells": [
  {
   "cell_type": "code",
   "execution_count": 5,
   "id": "3a52fbc6",
   "metadata": {},
   "outputs": [],
   "source": [
    "import numpy as np\n",
    "import cv2 as cv\n",
    "import matplotlib.pyplot as plt"
   ]
  },
  {
   "cell_type": "code",
   "execution_count": 7,
   "id": "11e4f7e8",
   "metadata": {},
   "outputs": [],
   "source": [
    "img = cv.imread(cv.samples.findFile('coins_1.jfif'))\n",
    "gray = cv.medianBlur(img, 7)\n",
    "gray = cv.cvtColor(gray, cv.COLOR_BGR2GRAY)\n",
    "\n",
    "#hough circle transform\n",
    "row = img.shape[0]\n",
    "circles = cv.HoughCircles(gray, cv.HOUGH_GRADIENT, 1, row/8, param1 = 150, param2 = 25)\n",
    "\n",
    "#draw circles\n",
    "if circles is not None:\n",
    "    circles = np.uint8(np.around(circles))\n",
    "    for i in circles[0]:\n",
    "        #center\n",
    "        center = (i[0], i[1])\n",
    "        cv.circle(img, center, 1, (100, 100, 100), 3)\n",
    "        #radius\n",
    "        radius = i[2]\n",
    "        #plot whole circle\n",
    "        cv.circle(img, center, radius, (255, 0, 0), 2)\n",
    "\n",
    "params = cv.SimpleBlobDetector_Params()\n",
    "\n",
    "params.filterByArea = False\n",
    "params.filterByConvexity = False\n",
    "params.filterByCircularity = True\n",
    "\n",
    "#detector\n",
    "detector = cv.SimpleBlobDetector_create(params)\n",
    "keypoints = detector.detect(gray)\n",
    "\n",
    "#draw\n",
    "im_keypoints = cv.drawKeypoints(img, keypoints, np.array([]), (0, 0, 255), cv.DRAW_MATCHES_FLAGS_DRAW_RICH_KEYPOINTS)\n",
    "\n",
    "cv.imshow('blobs', im_keypoints)\n",
    "cv.imshow('circle', img)\n",
    "cv.waitKey(0)\n",
    "cv.destroyAllWindows()"
   ]
  },
  {
   "cell_type": "code",
   "execution_count": 29,
   "id": "7cd174b2",
   "metadata": {},
   "outputs": [],
   "source": [
    "img = cv.imread('zebra.jfif')\n",
    "img_hsv = cv.cvtColor(img, cv.COLOR_BGR2HSV)\n",
    "\n",
    "img_reshape = img.reshape((-1, 3))\n",
    "img_reshape = np.float32(img_reshape)\n",
    "criteria = (cv.TERM_CRITERIA_EPS + cv.TERM_CRITERIA_MAX_ITER, 10, 1.0)\n",
    "K = 4\n",
    "attempts = 10\n",
    "ret, label, center = cv.kmeans(img_reshape, K, None, criteria, attempts, cv.KMEANS_PP_CENTERS)\n",
    "center = np.uint8(center)\n",
    "res = center[label.flatten()]\n",
    "seg_res = res.reshape(img.shape)\n",
    "\n",
    "img_reshape2 = img_hsv.reshape((-1, 3))\n",
    "img_reshape2 = np.float32(img_reshape2)\n",
    "ret, label2, center2 = cv.kmeans(img_reshape2, K, None, criteria, attempts, cv.KMEANS_PP_CENTERS)\n",
    "center2 = np.uint8(center2)\n",
    "res2 = center2[label2.flatten()]\n",
    "seg_res2 = res2.reshape(img_hsv.shape)\n",
    "\n",
    "cv.imshow('BGR', seg_res)\n",
    "cv.imshow('HSV', seg_res2)\n",
    "cv.waitKey(0)\n",
    "cv.destroyAllWindows()"
   ]
  }
 ],
 "metadata": {
  "kernelspec": {
   "display_name": "Python 3 (ipykernel)",
   "language": "python",
   "name": "python3"
  },
  "language_info": {
   "codemirror_mode": {
    "name": "ipython",
    "version": 3
   },
   "file_extension": ".py",
   "mimetype": "text/x-python",
   "name": "python",
   "nbconvert_exporter": "python",
   "pygments_lexer": "ipython3",
   "version": "3.9.12"
  }
 },
 "nbformat": 4,
 "nbformat_minor": 5
}
